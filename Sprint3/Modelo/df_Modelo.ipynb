{
 "cells": [
  {
   "cell_type": "markdown",
   "metadata": {},
   "source": [
    "Corroboramos que archivos tenemos en el bucket de data limpia"
   ]
  },
  {
   "cell_type": "code",
   "execution_count": 1,
   "metadata": {},
   "outputs": [
    {
     "name": "stdout",
     "output_type": "stream",
     "text": [
      "Google/metadata_sitios/1.parquet\n",
      "Google/metadata_sitios/10.parquet\n",
      "Google/metadata_sitios/11.parquet\n",
      "Google/metadata_sitios/2.parquet\n",
      "Google/metadata_sitios/3.parquet\n",
      "Google/metadata_sitios/4.parquet\n",
      "Google/metadata_sitios/5.parquet\n",
      "Google/metadata_sitios/6.parquet\n",
      "Google/metadata_sitios/7.parquet\n",
      "Google/metadata_sitios/8.parquet\n",
      "Google/metadata_sitios/9.parquet\n",
      "Google/reviews_estados/review_Florida/1.parquet\n",
      "Google/reviews_estados/review_Florida/10.parquet\n",
      "Google/reviews_estados/review_Florida/11.parquet\n",
      "Google/reviews_estados/review_Florida/12.parquet\n",
      "Google/reviews_estados/review_Florida/13.parquet\n",
      "Google/reviews_estados/review_Florida/14.parquet\n",
      "Google/reviews_estados/review_Florida/15.parquet\n",
      "Google/reviews_estados/review_Florida/16.parquet\n",
      "Google/reviews_estados/review_Florida/17.parquet\n",
      "Google/reviews_estados/review_Florida/18.parquet\n",
      "Google/reviews_estados/review_Florida/19.parquet\n",
      "Google/reviews_estados/review_Florida/2.parquet\n",
      "Google/reviews_estados/review_Florida/3.parquet\n",
      "Google/reviews_estados/review_Florida/4.parquet\n",
      "Google/reviews_estados/review_Florida/5.parquet\n",
      "Google/reviews_estados/review_Florida/6.parquet\n",
      "Google/reviews_estados/review_Florida/7.parquet\n",
      "Google/reviews_estados/review_Florida/8.parquet\n",
      "Google/reviews_estados/review_Florida/9.parquet\n",
      "Google/reviews_estados/review_Pennsylvania/1.parquet\n",
      "Google/reviews_estados/review_Pennsylvania/10.parquet\n",
      "Google/reviews_estados/review_Pennsylvania/11.parquet\n",
      "Google/reviews_estados/review_Pennsylvania/12.parquet\n",
      "Google/reviews_estados/review_Pennsylvania/13.parquet\n",
      "Google/reviews_estados/review_Pennsylvania/14.parquet\n",
      "Google/reviews_estados/review_Pennsylvania/15.parquet\n",
      "Google/reviews_estados/review_Pennsylvania/16.parquet\n",
      "Google/reviews_estados/review_Pennsylvania/2.parquet\n",
      "Google/reviews_estados/review_Pennsylvania/3.parquet\n",
      "Google/reviews_estados/review_Pennsylvania/4.parquet\n",
      "Google/reviews_estados/review_Pennsylvania/5.parquet\n",
      "Google/reviews_estados/review_Pennsylvania/6.parquet\n",
      "Google/reviews_estados/review_Pennsylvania/7.parquet\n",
      "Google/reviews_estados/review_Pennsylvania/8.parquet\n",
      "Google/reviews_estados/review_Pennsylvania/9.parquet\n",
      "Modelo_df/maps_concatenado2.parquet\n",
      "Modelo_df/maps_concatenado3.parquet\n",
      "Yelp/business.parquet\n",
      "Yelp/checkin.parquet\n",
      "Yelp/reviews/reviews_1.parquet\n",
      "Yelp/reviews/reviews_10.parquet\n",
      "Yelp/reviews/reviews_2.parquet\n",
      "Yelp/reviews/reviews_3.parquet\n",
      "Yelp/reviews/reviews_4.parquet\n",
      "Yelp/reviews/reviews_5.parquet\n",
      "Yelp/reviews/reviews_6.parquet\n",
      "Yelp/reviews/reviews_7.parquet\n",
      "Yelp/reviews/reviews_8.parquet\n",
      "Yelp/reviews/reviews_9.parquet\n",
      "Yelp/tips.parquet\n"
     ]
    }
   ],
   "source": [
    "from google.cloud import storage\n",
    "from google.oauth2 import service_account\n",
    "\n",
    "credentials = service_account.Credentials.from_service_account_file('C:/Users/aylus/OneDrive/Escritorio/Proyecto_GCP/Proyecto-Grupal/Sprint3/Modelo/prueba-410413-60a3d3b06006.json')\n",
    "client = storage.Client(credentials=credentials)\n",
    "\n",
    "# Obtén un objeto de cubo (bucket)\n",
    "bucket = client.get_bucket('pf_cleaned_data')\n",
    "\n",
    "# Lista los objetos en el bucket\n",
    "blobs = bucket.list_blobs()\n",
    "\n",
    "# Ejemplo: Imprimir nombres de los archivos en el bucket\n",
    "for blob in blobs:\n",
    "    print(blob.name)"
   ]
  },
  {
   "cell_type": "markdown",
   "metadata": {},
   "source": [
    "Accedemos a la carpeta de Google Maps del bucket y extramos los archivos necesarios para colocarlos en distintos dataframes"
   ]
  },
  {
   "cell_type": "code",
   "execution_count": 2,
   "metadata": {},
   "outputs": [
    {
     "name": "stdout",
     "output_type": "stream",
     "text": [
      "Trying to access: gs://pf_cleaned_data/Google/metadata_sitios/1.parquet\n",
      "Trying to access: gs://pf_cleaned_data/Google/metadata_sitios/2.parquet\n",
      "Trying to access: gs://pf_cleaned_data/Google/metadata_sitios/3.parquet\n",
      "Trying to access: gs://pf_cleaned_data/Google/metadata_sitios/4.parquet\n",
      "Trying to access: gs://pf_cleaned_data/Google/metadata_sitios/5.parquet\n",
      "Trying to access: gs://pf_cleaned_data/Google/metadata_sitios/6.parquet\n",
      "Trying to access: gs://pf_cleaned_data/Google/metadata_sitios/7.parquet\n",
      "Trying to access: gs://pf_cleaned_data/Google/metadata_sitios/8.parquet\n",
      "Trying to access: gs://pf_cleaned_data/Google/metadata_sitios/9.parquet\n",
      "Trying to access: gs://pf_cleaned_data/Google/metadata_sitios/10.parquet\n",
      "Trying to access: gs://pf_cleaned_data/Google/reviews_estados/review_Florida/1.parquet\n",
      "Trying to access: gs://pf_cleaned_data/Google/reviews_estados/review_Florida/2.parquet\n",
      "Trying to access: gs://pf_cleaned_data/Google/reviews_estados/review_Florida/3.parquet\n",
      "Trying to access: gs://pf_cleaned_data/Google/reviews_estados/review_Florida/4.parquet\n",
      "Trying to access: gs://pf_cleaned_data/Google/reviews_estados/review_Florida/5.parquet\n",
      "Trying to access: gs://pf_cleaned_data/Google/reviews_estados/review_Florida/6.parquet\n",
      "Trying to access: gs://pf_cleaned_data/Google/reviews_estados/review_Florida/7.parquet\n",
      "Trying to access: gs://pf_cleaned_data/Google/reviews_estados/review_Florida/8.parquet\n",
      "Trying to access: gs://pf_cleaned_data/Google/reviews_estados/review_Florida/9.parquet\n",
      "Trying to access: gs://pf_cleaned_data/Google/reviews_estados/review_Florida/10.parquet\n",
      "Trying to access: gs://pf_cleaned_data/Google/reviews_estados/review_Florida/11.parquet\n",
      "Trying to access: gs://pf_cleaned_data/Google/reviews_estados/review_Florida/12.parquet\n",
      "Trying to access: gs://pf_cleaned_data/Google/reviews_estados/review_Florida/13.parquet\n",
      "Trying to access: gs://pf_cleaned_data/Google/reviews_estados/review_Florida/14.parquet\n",
      "Trying to access: gs://pf_cleaned_data/Google/reviews_estados/review_Florida/15.parquet\n",
      "Trying to access: gs://pf_cleaned_data/Google/reviews_estados/review_Florida/16.parquet\n",
      "Trying to access: gs://pf_cleaned_data/Google/reviews_estados/review_Florida/17.parquet\n",
      "Trying to access: gs://pf_cleaned_data/Google/reviews_estados/review_Florida/18.parquet\n",
      "Trying to access: gs://pf_cleaned_data/Google/reviews_estados/review_Florida/19.parquet\n",
      "Trying to access: gs://pf_cleaned_data/Google/reviews_estados/review_Pennsylvania/1.parquet\n",
      "Trying to access: gs://pf_cleaned_data/Google/reviews_estados/review_Pennsylvania/2.parquet\n",
      "Trying to access: gs://pf_cleaned_data/Google/reviews_estados/review_Pennsylvania/3.parquet\n",
      "Trying to access: gs://pf_cleaned_data/Google/reviews_estados/review_Pennsylvania/4.parquet\n",
      "Trying to access: gs://pf_cleaned_data/Google/reviews_estados/review_Pennsylvania/5.parquet\n",
      "Trying to access: gs://pf_cleaned_data/Google/reviews_estados/review_Pennsylvania/6.parquet\n",
      "Trying to access: gs://pf_cleaned_data/Google/reviews_estados/review_Pennsylvania/7.parquet\n",
      "Trying to access: gs://pf_cleaned_data/Google/reviews_estados/review_Pennsylvania/8.parquet\n",
      "Trying to access: gs://pf_cleaned_data/Google/reviews_estados/review_Pennsylvania/9.parquet\n",
      "Trying to access: gs://pf_cleaned_data/Google/reviews_estados/review_Pennsylvania/10.parquet\n",
      "Trying to access: gs://pf_cleaned_data/Google/reviews_estados/review_Pennsylvania/11.parquet\n",
      "Trying to access: gs://pf_cleaned_data/Google/reviews_estados/review_Pennsylvania/12.parquet\n",
      "Trying to access: gs://pf_cleaned_data/Google/reviews_estados/review_Pennsylvania/13.parquet\n",
      "Trying to access: gs://pf_cleaned_data/Google/reviews_estados/review_Pennsylvania/14.parquet\n",
      "Trying to access: gs://pf_cleaned_data/Google/reviews_estados/review_Pennsylvania/15.parquet\n",
      "Trying to access: gs://pf_cleaned_data/Google/reviews_estados/review_Pennsylvania/16.parquet\n"
     ]
    }
   ],
   "source": [
    "import pandas as pd\n",
    "from google.oauth2 import service_account\n",
    "import gcsfs\n",
    "\n",
    "credentials = service_account.Credentials.from_service_account_file('C:/Users/aylus/OneDrive/Escritorio/Proyecto_GCP/Proyecto-Grupal/Sprint3/Modelo/prueba-410413-60a3d3b06006.json')\n",
    "\n",
    "client = gcsfs.GCSFileSystem(project='prueba-410413', credentials=credentials)\n",
    "bucket_name = 'pf_cleaned_data'\n",
    "\n",
    "# Seleccionamos los archivos de Google Maps que necesitamos para el modelo\n",
    "files = [\n",
    "    'Google/metadata_sitios/1.parquet',\n",
    "    'Google/metadata_sitios/2.parquet',\n",
    "    'Google/metadata_sitios/3.parquet',\n",
    "    'Google/metadata_sitios/4.parquet',\n",
    "    'Google/metadata_sitios/5.parquet',\n",
    "    'Google/metadata_sitios/6.parquet',\n",
    "    'Google/metadata_sitios/7.parquet',\n",
    "    'Google/metadata_sitios/8.parquet',\n",
    "    'Google/metadata_sitios/9.parquet',\n",
    "    'Google/metadata_sitios/10.parquet',\n",
    "    'Google/reviews_estados/review_Florida/1.parquet',\n",
    "    'Google/reviews_estados/review_Florida/2.parquet',\n",
    "    'Google/reviews_estados/review_Florida/3.parquet',\n",
    "    'Google/reviews_estados/review_Florida/4.parquet',\n",
    "    'Google/reviews_estados/review_Florida/5.parquet',\n",
    "    'Google/reviews_estados/review_Florida/6.parquet',\n",
    "    'Google/reviews_estados/review_Florida/7.parquet',\n",
    "    'Google/reviews_estados/review_Florida/8.parquet',\n",
    "    'Google/reviews_estados/review_Florida/9.parquet',\n",
    "    'Google/reviews_estados/review_Florida/10.parquet',\n",
    "    'Google/reviews_estados/review_Florida/11.parquet',\n",
    "    'Google/reviews_estados/review_Florida/12.parquet',\n",
    "    'Google/reviews_estados/review_Florida/13.parquet',\n",
    "    'Google/reviews_estados/review_Florida/14.parquet',\n",
    "    'Google/reviews_estados/review_Florida/15.parquet',\n",
    "    'Google/reviews_estados/review_Florida/16.parquet',\n",
    "    'Google/reviews_estados/review_Florida/17.parquet',\n",
    "    'Google/reviews_estados/review_Florida/18.parquet',\n",
    "    'Google/reviews_estados/review_Florida/19.parquet',\n",
    "    'Google/reviews_estados/review_Pennsylvania/1.parquet',\n",
    "    'Google/reviews_estados/review_Pennsylvania/2.parquet',\n",
    "    'Google/reviews_estados/review_Pennsylvania/3.parquet',\n",
    "    'Google/reviews_estados/review_Pennsylvania/4.parquet',\n",
    "    'Google/reviews_estados/review_Pennsylvania/5.parquet',\n",
    "    'Google/reviews_estados/review_Pennsylvania/6.parquet',\n",
    "    'Google/reviews_estados/review_Pennsylvania/7.parquet',\n",
    "    'Google/reviews_estados/review_Pennsylvania/8.parquet',\n",
    "    'Google/reviews_estados/review_Pennsylvania/9.parquet',\n",
    "    'Google/reviews_estados/review_Pennsylvania/10.parquet',\n",
    "    'Google/reviews_estados/review_Pennsylvania/11.parquet',\n",
    "    'Google/reviews_estados/review_Pennsylvania/12.parquet',\n",
    "    'Google/reviews_estados/review_Pennsylvania/13.parquet',\n",
    "    'Google/reviews_estados/review_Pennsylvania/14.parquet',\n",
    "    'Google/reviews_estados/review_Pennsylvania/15.parquet',\n",
    "    'Google/reviews_estados/review_Pennsylvania/16.parquet'\n",
    "]\n",
    "\n",
    "for file in files:\n",
    "    url = f'gs://{bucket_name}/{file}'\n",
    "    print(f'Trying to access: {url}')\n",
    "    df = pd.read_parquet(url, storage_options={'client': client})\n",
    "\n",
    "# Leemos los archivos uno por uno para despues unirlos en dataframe segun corresponda\n",
    "metadata_df = pd.concat([\n",
    "    pd.read_parquet(f'gs://{bucket_name}/{file}', storage_options={'client': client}) for file in files if 'metadata_sitios' in file\n",
    "])\n",
    "\n",
    "reviews_df_florida = pd.concat([\n",
    "    pd.read_parquet(f'gs://{bucket_name}/{file}', storage_options={'client': client}) for file in files if 'reviews_estados/review_Florida' in file\n",
    "])\n",
    "\n",
    "reviews_df_pennsylvania = pd.concat([\n",
    "    pd.read_parquet(f'gs://{bucket_name}/{file}', storage_options={'client': client}) for file in files if 'reviews_estados/review_Pennsylvania' in file\n",
    "])"
   ]
  },
  {
   "cell_type": "markdown",
   "metadata": {},
   "source": [
    "### Estado de Florida"
   ]
  },
  {
   "cell_type": "code",
   "execution_count": 3,
   "metadata": {},
   "outputs": [
    {
     "data": {
      "text/html": [
       "<div>\n",
       "<style scoped>\n",
       "    .dataframe tbody tr th:only-of-type {\n",
       "        vertical-align: middle;\n",
       "    }\n",
       "\n",
       "    .dataframe tbody tr th {\n",
       "        vertical-align: top;\n",
       "    }\n",
       "\n",
       "    .dataframe thead th {\n",
       "        text-align: right;\n",
       "    }\n",
       "</style>\n",
       "<table border=\"1\" class=\"dataframe\">\n",
       "  <thead>\n",
       "    <tr style=\"text-align: right;\">\n",
       "      <th></th>\n",
       "      <th>user_id</th>\n",
       "      <th>date</th>\n",
       "      <th>rating</th>\n",
       "      <th>text</th>\n",
       "      <th>gmap_id</th>\n",
       "      <th>state</th>\n",
       "    </tr>\n",
       "  </thead>\n",
       "  <tbody>\n",
       "    <tr>\n",
       "      <th>0</th>\n",
       "      <td>1.014719e+20</td>\n",
       "      <td>2021-08-03</td>\n",
       "      <td>1</td>\n",
       "      <td>Update: Their “reply” to my review amounted to...</td>\n",
       "      <td>0x8893863ea87bd5dd:0x9383ebf973e74abb</td>\n",
       "      <td>FL</td>\n",
       "    </tr>\n",
       "    <tr>\n",
       "      <th>1</th>\n",
       "      <td>1.154772e+20</td>\n",
       "      <td>2020-07-18</td>\n",
       "      <td>5</td>\n",
       "      <td>He's a knowledgeable doctor but the way he run...</td>\n",
       "      <td>0x8893863ea87bd5dd:0x9383ebf973e74abb</td>\n",
       "      <td>FL</td>\n",
       "    </tr>\n",
       "    <tr>\n",
       "      <th>2</th>\n",
       "      <td>1.018050e+20</td>\n",
       "      <td>2018-04-05</td>\n",
       "      <td>5</td>\n",
       "      <td>Best doctor I've ever had, I never wait to be ...</td>\n",
       "      <td>0x8893863ea87bd5dd:0x9383ebf973e74abb</td>\n",
       "      <td>FL</td>\n",
       "    </tr>\n",
       "  </tbody>\n",
       "</table>\n",
       "</div>"
      ],
      "text/plain": [
       "        user_id        date  rating  \\\n",
       "0  1.014719e+20  2021-08-03       1   \n",
       "1  1.154772e+20  2020-07-18       5   \n",
       "2  1.018050e+20  2018-04-05       5   \n",
       "\n",
       "                                                text  \\\n",
       "0  Update: Their “reply” to my review amounted to...   \n",
       "1  He's a knowledgeable doctor but the way he run...   \n",
       "2  Best doctor I've ever had, I never wait to be ...   \n",
       "\n",
       "                                 gmap_id state  \n",
       "0  0x8893863ea87bd5dd:0x9383ebf973e74abb    FL  \n",
       "1  0x8893863ea87bd5dd:0x9383ebf973e74abb    FL  \n",
       "2  0x8893863ea87bd5dd:0x9383ebf973e74abb    FL  "
      ]
     },
     "execution_count": 3,
     "metadata": {},
     "output_type": "execute_result"
    }
   ],
   "source": [
    "reviews_df_florida.head(3)"
   ]
  },
  {
   "cell_type": "code",
   "execution_count": 4,
   "metadata": {},
   "outputs": [
    {
     "data": {
      "text/plain": [
       "(2730509, 6)"
      ]
     },
     "execution_count": 4,
     "metadata": {},
     "output_type": "execute_result"
    }
   ],
   "source": [
    "reviews_df_florida.shape"
   ]
  },
  {
   "cell_type": "markdown",
   "metadata": {},
   "source": [
    "Visualizamos que tenemos casi 3 millones de registros y seis columnas"
   ]
  },
  {
   "cell_type": "code",
   "execution_count": 5,
   "metadata": {},
   "outputs": [
    {
     "name": "stdout",
     "output_type": "stream",
     "text": [
      "<class 'pandas.core.frame.DataFrame'>\n",
      "Index: 2730509 entries, 0 to 149997\n",
      "Data columns (total 6 columns):\n",
      " #   Column   Dtype  \n",
      "---  ------   -----  \n",
      " 0   user_id  float64\n",
      " 1   date     object \n",
      " 2   rating   int64  \n",
      " 3   text     object \n",
      " 4   gmap_id  object \n",
      " 5   state    object \n",
      "dtypes: float64(1), int64(1), object(4)\n",
      "memory usage: 145.8+ MB\n"
     ]
    }
   ],
   "source": [
    "reviews_df_florida.info()"
   ]
  },
  {
   "cell_type": "code",
   "execution_count": 6,
   "metadata": {},
   "outputs": [
    {
     "data": {
      "text/plain": [
       "user_id     0.00000\n",
       "date        0.00000\n",
       "rating      0.00000\n",
       "text       39.34673\n",
       "gmap_id     0.00000\n",
       "state       0.00000\n",
       "dtype: float64"
      ]
     },
     "execution_count": 6,
     "metadata": {},
     "output_type": "execute_result"
    }
   ],
   "source": [
    "florida_nulos = reviews_df_florida.isnull().sum()\n",
    "procentaje_nulos_florida = (florida_nulos/len(reviews_df_florida))*100\n",
    "procentaje_nulos_florida"
   ]
  },
  {
   "cell_type": "markdown",
   "metadata": {},
   "source": [
    "Como podemos observar casi el 40% de los registros en la columna texto son nulos como para el fin del modelo no va a aportar informacion procedemos a eliminarlos"
   ]
  },
  {
   "cell_type": "code",
   "execution_count": 7,
   "metadata": {},
   "outputs": [],
   "source": [
    "reviews_df_florida = reviews_df_florida.dropna(subset=[\"text\"])"
   ]
  },
  {
   "cell_type": "code",
   "execution_count": 8,
   "metadata": {},
   "outputs": [],
   "source": [
    "reviews_df_florida[\"year\"] = pd.to_datetime(reviews_df_florida['date']).dt.year"
   ]
  },
  {
   "cell_type": "code",
   "execution_count": 9,
   "metadata": {},
   "outputs": [
    {
     "data": {
      "text/plain": [
       "year\n",
       "2019    458513\n",
       "2018    362746\n",
       "2020    322460\n",
       "2021    209412\n",
       "2017    198046\n",
       "2016     72583\n",
       "2015     18303\n",
       "2014      6878\n",
       "2013      4015\n",
       "2012      1957\n",
       "2011       859\n",
       "2010       235\n",
       "2009        85\n",
       "2008        23\n",
       "2007        15\n",
       "2003         7\n",
       "2005         4\n",
       "2006         2\n",
       "Name: count, dtype: int64"
      ]
     },
     "execution_count": 9,
     "metadata": {},
     "output_type": "execute_result"
    }
   ],
   "source": [
    "reviews_df_florida[\"year\"].value_counts()"
   ]
  },
  {
   "cell_type": "markdown",
   "metadata": {},
   "source": [
    "Para lo que corresponde al modelo vamos a utilizar las reseñas que abarcan del año 2015 en adelante"
   ]
  },
  {
   "cell_type": "code",
   "execution_count": 10,
   "metadata": {},
   "outputs": [],
   "source": [
    "reviews_df_florida_filtrado = reviews_df_florida[reviews_df_florida['year'] >= 2015]"
   ]
  },
  {
   "cell_type": "code",
   "execution_count": 11,
   "metadata": {},
   "outputs": [
    {
     "data": {
      "text/plain": [
       "year\n",
       "2019    458513\n",
       "2018    362746\n",
       "2020    322460\n",
       "2021    209412\n",
       "2017    198046\n",
       "2016     72583\n",
       "2015     18303\n",
       "Name: count, dtype: int64"
      ]
     },
     "execution_count": 11,
     "metadata": {},
     "output_type": "execute_result"
    }
   ],
   "source": [
    "reviews_df_florida_filtrado[\"year\"].value_counts()"
   ]
  },
  {
   "cell_type": "code",
   "execution_count": 12,
   "metadata": {},
   "outputs": [
    {
     "data": {
      "text/plain": [
       "Index(['user_id', 'date', 'rating', 'text', 'gmap_id', 'state', 'year'], dtype='object')"
      ]
     },
     "execution_count": 12,
     "metadata": {},
     "output_type": "execute_result"
    }
   ],
   "source": [
    "reviews_df_florida_filtrado.columns"
   ]
  },
  {
   "cell_type": "markdown",
   "metadata": {},
   "source": [
    "Las columnas date y year no seran de utilidad para el modelo asi que procedemos a eliminarlas"
   ]
  },
  {
   "cell_type": "code",
   "execution_count": 13,
   "metadata": {},
   "outputs": [],
   "source": [
    "# Columnas que queremos conservar\n",
    "columnas_necesarias = [\"user_id\", \"rating\", \"text\", \"gmap_id\", \"state\"]\n",
    "# Creamos un nuevo dataframe con solo esas columnas\n",
    "reviews_df_florida_filtrado2 = reviews_df_florida_filtrado[columnas_necesarias].copy()"
   ]
  },
  {
   "cell_type": "code",
   "execution_count": 14,
   "metadata": {},
   "outputs": [
    {
     "data": {
      "text/html": [
       "<div>\n",
       "<style scoped>\n",
       "    .dataframe tbody tr th:only-of-type {\n",
       "        vertical-align: middle;\n",
       "    }\n",
       "\n",
       "    .dataframe tbody tr th {\n",
       "        vertical-align: top;\n",
       "    }\n",
       "\n",
       "    .dataframe thead th {\n",
       "        text-align: right;\n",
       "    }\n",
       "</style>\n",
       "<table border=\"1\" class=\"dataframe\">\n",
       "  <thead>\n",
       "    <tr style=\"text-align: right;\">\n",
       "      <th></th>\n",
       "      <th>user_id</th>\n",
       "      <th>rating</th>\n",
       "      <th>text</th>\n",
       "      <th>gmap_id</th>\n",
       "      <th>state</th>\n",
       "    </tr>\n",
       "  </thead>\n",
       "  <tbody>\n",
       "    <tr>\n",
       "      <th>0</th>\n",
       "      <td>1.014719e+20</td>\n",
       "      <td>1</td>\n",
       "      <td>Update: Their “reply” to my review amounted to...</td>\n",
       "      <td>0x8893863ea87bd5dd:0x9383ebf973e74abb</td>\n",
       "      <td>FL</td>\n",
       "    </tr>\n",
       "    <tr>\n",
       "      <th>1</th>\n",
       "      <td>1.154772e+20</td>\n",
       "      <td>5</td>\n",
       "      <td>He's a knowledgeable doctor but the way he run...</td>\n",
       "      <td>0x8893863ea87bd5dd:0x9383ebf973e74abb</td>\n",
       "      <td>FL</td>\n",
       "    </tr>\n",
       "    <tr>\n",
       "      <th>2</th>\n",
       "      <td>1.018050e+20</td>\n",
       "      <td>5</td>\n",
       "      <td>Best doctor I've ever had, I never wait to be ...</td>\n",
       "      <td>0x8893863ea87bd5dd:0x9383ebf973e74abb</td>\n",
       "      <td>FL</td>\n",
       "    </tr>\n",
       "  </tbody>\n",
       "</table>\n",
       "</div>"
      ],
      "text/plain": [
       "        user_id  rating                                               text  \\\n",
       "0  1.014719e+20       1  Update: Their “reply” to my review amounted to...   \n",
       "1  1.154772e+20       5  He's a knowledgeable doctor but the way he run...   \n",
       "2  1.018050e+20       5  Best doctor I've ever had, I never wait to be ...   \n",
       "\n",
       "                                 gmap_id state  \n",
       "0  0x8893863ea87bd5dd:0x9383ebf973e74abb    FL  \n",
       "1  0x8893863ea87bd5dd:0x9383ebf973e74abb    FL  \n",
       "2  0x8893863ea87bd5dd:0x9383ebf973e74abb    FL  "
      ]
     },
     "execution_count": 14,
     "metadata": {},
     "output_type": "execute_result"
    }
   ],
   "source": [
    "reviews_df_florida_filtrado2.head(3)"
   ]
  },
  {
   "cell_type": "markdown",
   "metadata": {},
   "source": [
    "### Estado de Pennsylvania"
   ]
  },
  {
   "cell_type": "code",
   "execution_count": 15,
   "metadata": {},
   "outputs": [
    {
     "data": {
      "text/html": [
       "<div>\n",
       "<style scoped>\n",
       "    .dataframe tbody tr th:only-of-type {\n",
       "        vertical-align: middle;\n",
       "    }\n",
       "\n",
       "    .dataframe tbody tr th {\n",
       "        vertical-align: top;\n",
       "    }\n",
       "\n",
       "    .dataframe thead th {\n",
       "        text-align: right;\n",
       "    }\n",
       "</style>\n",
       "<table border=\"1\" class=\"dataframe\">\n",
       "  <thead>\n",
       "    <tr style=\"text-align: right;\">\n",
       "      <th></th>\n",
       "      <th>user_id</th>\n",
       "      <th>date</th>\n",
       "      <th>rating</th>\n",
       "      <th>text</th>\n",
       "      <th>gmap_id</th>\n",
       "      <th>state</th>\n",
       "    </tr>\n",
       "  </thead>\n",
       "  <tbody>\n",
       "    <tr>\n",
       "      <th>0</th>\n",
       "      <td>1.049447e+20</td>\n",
       "      <td>2018-02-04</td>\n",
       "      <td>5</td>\n",
       "      <td>Joe is quite unique of his line of work, he as...</td>\n",
       "      <td>0x89c6c63c8cd87141:0x54d0d283872eecbb</td>\n",
       "      <td>PA</td>\n",
       "    </tr>\n",
       "    <tr>\n",
       "      <th>1</th>\n",
       "      <td>1.176097e+20</td>\n",
       "      <td>2016-10-12</td>\n",
       "      <td>5</td>\n",
       "      <td>For such a small place their impact on my life...</td>\n",
       "      <td>0x89c6c63c8cd87141:0x54d0d283872eecbb</td>\n",
       "      <td>PA</td>\n",
       "    </tr>\n",
       "    <tr>\n",
       "      <th>2</th>\n",
       "      <td>1.105632e+20</td>\n",
       "      <td>2012-06-04</td>\n",
       "      <td>5</td>\n",
       "      <td>I usually give them a call before I stop by to...</td>\n",
       "      <td>0x89c6c63c8cd87141:0x54d0d283872eecbb</td>\n",
       "      <td>PA</td>\n",
       "    </tr>\n",
       "  </tbody>\n",
       "</table>\n",
       "</div>"
      ],
      "text/plain": [
       "        user_id        date  rating  \\\n",
       "0  1.049447e+20  2018-02-04       5   \n",
       "1  1.176097e+20  2016-10-12       5   \n",
       "2  1.105632e+20  2012-06-04       5   \n",
       "\n",
       "                                                text  \\\n",
       "0  Joe is quite unique of his line of work, he as...   \n",
       "1  For such a small place their impact on my life...   \n",
       "2  I usually give them a call before I stop by to...   \n",
       "\n",
       "                                 gmap_id state  \n",
       "0  0x89c6c63c8cd87141:0x54d0d283872eecbb    PA  \n",
       "1  0x89c6c63c8cd87141:0x54d0d283872eecbb    PA  \n",
       "2  0x89c6c63c8cd87141:0x54d0d283872eecbb    PA  "
      ]
     },
     "execution_count": 15,
     "metadata": {},
     "output_type": "execute_result"
    }
   ],
   "source": [
    "reviews_df_pennsylvania.head(3)"
   ]
  },
  {
   "cell_type": "code",
   "execution_count": 16,
   "metadata": {},
   "outputs": [
    {
     "data": {
      "text/plain": [
       "(2366371, 6)"
      ]
     },
     "execution_count": 16,
     "metadata": {},
     "output_type": "execute_result"
    }
   ],
   "source": [
    "reviews_df_pennsylvania.shape"
   ]
  },
  {
   "cell_type": "markdown",
   "metadata": {},
   "source": [
    "Visualizamos que tenemos casi 2 millones y medio de registros y seis columnas"
   ]
  },
  {
   "cell_type": "code",
   "execution_count": 17,
   "metadata": {},
   "outputs": [
    {
     "name": "stdout",
     "output_type": "stream",
     "text": [
      "<class 'pandas.core.frame.DataFrame'>\n",
      "Index: 2366371 entries, 0 to 149999\n",
      "Data columns (total 6 columns):\n",
      " #   Column   Dtype  \n",
      "---  ------   -----  \n",
      " 0   user_id  float64\n",
      " 1   date     object \n",
      " 2   rating   int64  \n",
      " 3   text     object \n",
      " 4   gmap_id  object \n",
      " 5   state    object \n",
      "dtypes: float64(1), int64(1), object(4)\n",
      "memory usage: 126.4+ MB\n"
     ]
    }
   ],
   "source": [
    "reviews_df_pennsylvania.info()"
   ]
  },
  {
   "cell_type": "code",
   "execution_count": 18,
   "metadata": {},
   "outputs": [
    {
     "data": {
      "text/plain": [
       "user_id     0.00000\n",
       "date        0.00000\n",
       "rating      0.00000\n",
       "text       43.88082\n",
       "gmap_id     0.00000\n",
       "state       0.00000\n",
       "dtype: float64"
      ]
     },
     "execution_count": 18,
     "metadata": {},
     "output_type": "execute_result"
    }
   ],
   "source": [
    "pennsylvania_nulos = reviews_df_pennsylvania.isnull().sum()\n",
    "procentaje_nulos_pennsylvania = (pennsylvania_nulos/len(reviews_df_pennsylvania))*100\n",
    "procentaje_nulos_pennsylvania"
   ]
  },
  {
   "cell_type": "markdown",
   "metadata": {},
   "source": [
    "Como podemos observar casi el 44% de los registros en la columna texto son nulos como para el fin del modelo no va a aportar informacion procedemos a eliminarlos"
   ]
  },
  {
   "cell_type": "code",
   "execution_count": 19,
   "metadata": {},
   "outputs": [],
   "source": [
    "reviews_df_pennsylvania = reviews_df_pennsylvania.dropna(subset=[\"text\"])"
   ]
  },
  {
   "cell_type": "markdown",
   "metadata": {},
   "source": [
    "Corroboramos que no quede ningun nulo en la columna de las reviews"
   ]
  },
  {
   "cell_type": "code",
   "execution_count": 20,
   "metadata": {},
   "outputs": [
    {
     "data": {
      "text/plain": [
       "user_id    0.0\n",
       "date       0.0\n",
       "rating     0.0\n",
       "text       0.0\n",
       "gmap_id    0.0\n",
       "state      0.0\n",
       "dtype: float64"
      ]
     },
     "execution_count": 20,
     "metadata": {},
     "output_type": "execute_result"
    }
   ],
   "source": [
    "pennsylvania_nulos = reviews_df_pennsylvania.isnull().sum()\n",
    "procentaje_nulos_pennsylvania = (pennsylvania_nulos/len(reviews_df_pennsylvania))*100\n",
    "procentaje_nulos_pennsylvania"
   ]
  },
  {
   "cell_type": "code",
   "execution_count": 21,
   "metadata": {},
   "outputs": [],
   "source": [
    "reviews_df_pennsylvania[\"year\"] = pd.to_datetime(reviews_df_pennsylvania['date']).dt.year"
   ]
  },
  {
   "cell_type": "code",
   "execution_count": 22,
   "metadata": {},
   "outputs": [
    {
     "data": {
      "text/plain": [
       "year\n",
       "2019    383450\n",
       "2018    308240\n",
       "2020    249745\n",
       "2017    174323\n",
       "2021    138533\n",
       "2016     52861\n",
       "2015     11226\n",
       "2014      4008\n",
       "2013      2794\n",
       "2012      1588\n",
       "2011       796\n",
       "2010       279\n",
       "2009        83\n",
       "2008        39\n",
       "2006        14\n",
       "2007         7\n",
       "1990         1\n",
       "2005         1\n",
       "Name: count, dtype: int64"
      ]
     },
     "execution_count": 22,
     "metadata": {},
     "output_type": "execute_result"
    }
   ],
   "source": [
    "reviews_df_pennsylvania[\"year\"].value_counts()"
   ]
  },
  {
   "cell_type": "markdown",
   "metadata": {},
   "source": [
    "En este caso se visualiza que el año mas antiguo registrado es 1990 a diferencia del otro dataframe pero como dijimos antes para lo que corresponde al modelo dejaremos de 2015 en adelante"
   ]
  },
  {
   "cell_type": "code",
   "execution_count": 23,
   "metadata": {},
   "outputs": [],
   "source": [
    "reviews_df_pennsylvania_filtrado = reviews_df_pennsylvania[reviews_df_pennsylvania['year'] >= 2015]"
   ]
  },
  {
   "cell_type": "code",
   "execution_count": 24,
   "metadata": {},
   "outputs": [
    {
     "data": {
      "text/plain": [
       "year\n",
       "2019    383450\n",
       "2018    308240\n",
       "2020    249745\n",
       "2017    174323\n",
       "2021    138533\n",
       "2016     52861\n",
       "2015     11226\n",
       "Name: count, dtype: int64"
      ]
     },
     "execution_count": 24,
     "metadata": {},
     "output_type": "execute_result"
    }
   ],
   "source": [
    "reviews_df_pennsylvania_filtrado[\"year\"].value_counts()"
   ]
  },
  {
   "cell_type": "markdown",
   "metadata": {},
   "source": [
    "Podemos afirmar que se seleccionarion los años de manera correcta"
   ]
  },
  {
   "cell_type": "code",
   "execution_count": 25,
   "metadata": {},
   "outputs": [
    {
     "data": {
      "text/plain": [
       "Index(['user_id', 'date', 'rating', 'text', 'gmap_id', 'state', 'year'], dtype='object')"
      ]
     },
     "execution_count": 25,
     "metadata": {},
     "output_type": "execute_result"
    }
   ],
   "source": [
    "reviews_df_pennsylvania_filtrado.columns"
   ]
  },
  {
   "cell_type": "markdown",
   "metadata": {},
   "source": [
    "Las columnas date y year no seran de utilidad para el modelo asi que procedemos a eliminarlas"
   ]
  },
  {
   "cell_type": "code",
   "execution_count": 26,
   "metadata": {},
   "outputs": [],
   "source": [
    "# Columnas que queremos conservar\n",
    "columnas_necesarias2 = [\"user_id\", \"rating\", \"text\", \"gmap_id\", \"state\"]\n",
    "# Creamos un nuevo dataframe con solo esas columnas\n",
    "reviews_df_pennsylvania_filtrado2 = reviews_df_pennsylvania_filtrado[columnas_necesarias2].copy()"
   ]
  },
  {
   "cell_type": "code",
   "execution_count": 27,
   "metadata": {},
   "outputs": [
    {
     "data": {
      "text/html": [
       "<div>\n",
       "<style scoped>\n",
       "    .dataframe tbody tr th:only-of-type {\n",
       "        vertical-align: middle;\n",
       "    }\n",
       "\n",
       "    .dataframe tbody tr th {\n",
       "        vertical-align: top;\n",
       "    }\n",
       "\n",
       "    .dataframe thead th {\n",
       "        text-align: right;\n",
       "    }\n",
       "</style>\n",
       "<table border=\"1\" class=\"dataframe\">\n",
       "  <thead>\n",
       "    <tr style=\"text-align: right;\">\n",
       "      <th></th>\n",
       "      <th>user_id</th>\n",
       "      <th>rating</th>\n",
       "      <th>text</th>\n",
       "      <th>gmap_id</th>\n",
       "      <th>state</th>\n",
       "    </tr>\n",
       "  </thead>\n",
       "  <tbody>\n",
       "    <tr>\n",
       "      <th>0</th>\n",
       "      <td>1.049447e+20</td>\n",
       "      <td>5</td>\n",
       "      <td>Joe is quite unique of his line of work, he as...</td>\n",
       "      <td>0x89c6c63c8cd87141:0x54d0d283872eecbb</td>\n",
       "      <td>PA</td>\n",
       "    </tr>\n",
       "    <tr>\n",
       "      <th>1</th>\n",
       "      <td>1.176097e+20</td>\n",
       "      <td>5</td>\n",
       "      <td>For such a small place their impact on my life...</td>\n",
       "      <td>0x89c6c63c8cd87141:0x54d0d283872eecbb</td>\n",
       "      <td>PA</td>\n",
       "    </tr>\n",
       "    <tr>\n",
       "      <th>4</th>\n",
       "      <td>1.106197e+20</td>\n",
       "      <td>5</td>\n",
       "      <td>Always an easy experience. Service is knowledg...</td>\n",
       "      <td>0x89c6c63c8cd87141:0x54d0d283872eecbb</td>\n",
       "      <td>PA</td>\n",
       "    </tr>\n",
       "  </tbody>\n",
       "</table>\n",
       "</div>"
      ],
      "text/plain": [
       "        user_id  rating                                               text  \\\n",
       "0  1.049447e+20       5  Joe is quite unique of his line of work, he as...   \n",
       "1  1.176097e+20       5  For such a small place their impact on my life...   \n",
       "4  1.106197e+20       5  Always an easy experience. Service is knowledg...   \n",
       "\n",
       "                                 gmap_id state  \n",
       "0  0x89c6c63c8cd87141:0x54d0d283872eecbb    PA  \n",
       "1  0x89c6c63c8cd87141:0x54d0d283872eecbb    PA  \n",
       "4  0x89c6c63c8cd87141:0x54d0d283872eecbb    PA  "
      ]
     },
     "execution_count": 27,
     "metadata": {},
     "output_type": "execute_result"
    }
   ],
   "source": [
    "reviews_df_pennsylvania_filtrado2.head(3)"
   ]
  },
  {
   "cell_type": "markdown",
   "metadata": {},
   "source": [
    "### Dataset de Metadata de Google Maps"
   ]
  },
  {
   "cell_type": "code",
   "execution_count": 28,
   "metadata": {},
   "outputs": [
    {
     "data": {
      "text/html": [
       "<div>\n",
       "<style scoped>\n",
       "    .dataframe tbody tr th:only-of-type {\n",
       "        vertical-align: middle;\n",
       "    }\n",
       "\n",
       "    .dataframe tbody tr th {\n",
       "        vertical-align: top;\n",
       "    }\n",
       "\n",
       "    .dataframe thead th {\n",
       "        text-align: right;\n",
       "    }\n",
       "</style>\n",
       "<table border=\"1\" class=\"dataframe\">\n",
       "  <thead>\n",
       "    <tr style=\"text-align: right;\">\n",
       "      <th></th>\n",
       "      <th>name</th>\n",
       "      <th>address</th>\n",
       "      <th>gmap_id</th>\n",
       "      <th>description</th>\n",
       "      <th>latitude</th>\n",
       "      <th>longitude</th>\n",
       "      <th>category</th>\n",
       "      <th>avg_rating</th>\n",
       "      <th>num_of_reviews</th>\n",
       "      <th>price</th>\n",
       "      <th>MISC</th>\n",
       "      <th>city</th>\n",
       "      <th>state</th>\n",
       "    </tr>\n",
       "  </thead>\n",
       "  <tbody>\n",
       "    <tr>\n",
       "      <th>68</th>\n",
       "      <td>Vivi Bubble Tea</td>\n",
       "      <td>Vivi Bubble Tea, 701 S 5th St, Philadelphia, P...</td>\n",
       "      <td>0x89c6c89efcaed69d:0xded973f6033e7dba</td>\n",
       "      <td>Bubble tea shop offering hot &amp; cold versions, ...</td>\n",
       "      <td>39.940293</td>\n",
       "      <td>-75.150923</td>\n",
       "      <td>Restaurant</td>\n",
       "      <td>4.0</td>\n",
       "      <td>8</td>\n",
       "      <td>None</td>\n",
       "      <td>{\"Service options\": [\"Delivery\"], \"Amenities\":...</td>\n",
       "      <td>Philadelphia</td>\n",
       "      <td>PA</td>\n",
       "    </tr>\n",
       "    <tr>\n",
       "      <th>114</th>\n",
       "      <td>Cape Seafood Shack</td>\n",
       "      <td>Cape Seafood Shack, 603 Del Prado Blvd S, Cape...</td>\n",
       "      <td>0x88db4147b1d9e6f3:0x943dbd10a92ba1b1</td>\n",
       "      <td>None</td>\n",
       "      <td>26.641377</td>\n",
       "      <td>-81.940545</td>\n",
       "      <td>Restaurant</td>\n",
       "      <td>5.0</td>\n",
       "      <td>1</td>\n",
       "      <td>$$</td>\n",
       "      <td>{\"Service options\": [\"Dine-in\", \"Delivery\"], \"...</td>\n",
       "      <td>Cape Coral</td>\n",
       "      <td>FL</td>\n",
       "    </tr>\n",
       "    <tr>\n",
       "      <th>115</th>\n",
       "      <td>Fresh Point Country Buffet</td>\n",
       "      <td>Fresh Point Country Buffet, 10525 US-19, Pinel...</td>\n",
       "      <td>0x88c2e4e34f1ed783:0x76c5da381c499d79</td>\n",
       "      <td>None</td>\n",
       "      <td>27.867489</td>\n",
       "      <td>-82.702971</td>\n",
       "      <td>Buffet restaurant</td>\n",
       "      <td>5.0</td>\n",
       "      <td>2</td>\n",
       "      <td>None</td>\n",
       "      <td>{\"Service options\": [\"Delivery\"], \"Accessibili...</td>\n",
       "      <td>Pinellas Park</td>\n",
       "      <td>FL</td>\n",
       "    </tr>\n",
       "  </tbody>\n",
       "</table>\n",
       "</div>"
      ],
      "text/plain": [
       "                           name  \\\n",
       "68              Vivi Bubble Tea   \n",
       "114          Cape Seafood Shack   \n",
       "115  Fresh Point Country Buffet   \n",
       "\n",
       "                                               address  \\\n",
       "68   Vivi Bubble Tea, 701 S 5th St, Philadelphia, P...   \n",
       "114  Cape Seafood Shack, 603 Del Prado Blvd S, Cape...   \n",
       "115  Fresh Point Country Buffet, 10525 US-19, Pinel...   \n",
       "\n",
       "                                   gmap_id  \\\n",
       "68   0x89c6c89efcaed69d:0xded973f6033e7dba   \n",
       "114  0x88db4147b1d9e6f3:0x943dbd10a92ba1b1   \n",
       "115  0x88c2e4e34f1ed783:0x76c5da381c499d79   \n",
       "\n",
       "                                           description   latitude  longitude  \\\n",
       "68   Bubble tea shop offering hot & cold versions, ...  39.940293 -75.150923   \n",
       "114                                               None  26.641377 -81.940545   \n",
       "115                                               None  27.867489 -82.702971   \n",
       "\n",
       "              category  avg_rating  num_of_reviews price  \\\n",
       "68          Restaurant         4.0               8  None   \n",
       "114         Restaurant         5.0               1    $$   \n",
       "115  Buffet restaurant         5.0               2  None   \n",
       "\n",
       "                                                  MISC           city state  \n",
       "68   {\"Service options\": [\"Delivery\"], \"Amenities\":...   Philadelphia    PA  \n",
       "114  {\"Service options\": [\"Dine-in\", \"Delivery\"], \"...     Cape Coral    FL  \n",
       "115  {\"Service options\": [\"Delivery\"], \"Accessibili...  Pinellas Park    FL  "
      ]
     },
     "execution_count": 28,
     "metadata": {},
     "output_type": "execute_result"
    }
   ],
   "source": [
    "metadata_df.head(3)"
   ]
  },
  {
   "cell_type": "code",
   "execution_count": 29,
   "metadata": {},
   "outputs": [
    {
     "data": {
      "text/plain": [
       "(18933, 13)"
      ]
     },
     "execution_count": 29,
     "metadata": {},
     "output_type": "execute_result"
    }
   ],
   "source": [
    "metadata_df.shape"
   ]
  },
  {
   "cell_type": "markdown",
   "metadata": {},
   "source": [
    "Visualizamos que tenemos casi 19 mil registros y 13 columnas"
   ]
  },
  {
   "cell_type": "code",
   "execution_count": 30,
   "metadata": {},
   "outputs": [
    {
     "name": "stdout",
     "output_type": "stream",
     "text": [
      "<class 'pandas.core.frame.DataFrame'>\n",
      "Index: 18933 entries, 68 to 274834\n",
      "Data columns (total 13 columns):\n",
      " #   Column          Non-Null Count  Dtype  \n",
      "---  ------          --------------  -----  \n",
      " 0   name            18933 non-null  object \n",
      " 1   address         18933 non-null  object \n",
      " 2   gmap_id         18933 non-null  object \n",
      " 3   description     6186 non-null   object \n",
      " 4   latitude        18933 non-null  float64\n",
      " 5   longitude       18933 non-null  float64\n",
      " 6   category        18933 non-null  object \n",
      " 7   avg_rating      18933 non-null  float64\n",
      " 8   num_of_reviews  18933 non-null  int64  \n",
      " 9   price           8467 non-null   object \n",
      " 10  MISC            18831 non-null  object \n",
      " 11  city            18933 non-null  object \n",
      " 12  state           18933 non-null  object \n",
      "dtypes: float64(3), int64(1), object(9)\n",
      "memory usage: 2.0+ MB\n"
     ]
    }
   ],
   "source": [
    "metadata_df.info()"
   ]
  },
  {
   "cell_type": "code",
   "execution_count": 31,
   "metadata": {},
   "outputs": [
    {
     "data": {
      "text/plain": [
       "name               0.000000\n",
       "address            0.000000\n",
       "gmap_id            0.000000\n",
       "description       67.326890\n",
       "latitude           0.000000\n",
       "longitude          0.000000\n",
       "category           0.000000\n",
       "avg_rating         0.000000\n",
       "num_of_reviews     0.000000\n",
       "price             55.279142\n",
       "MISC               0.538742\n",
       "city               0.000000\n",
       "state              0.000000\n",
       "dtype: float64"
      ]
     },
     "execution_count": 31,
     "metadata": {},
     "output_type": "execute_result"
    }
   ],
   "source": [
    "metada_nulos = metadata_df.isnull().sum()\n",
    "pocentaje_nulos_metadata = (metada_nulos/len(metadata_df))*100\n",
    "pocentaje_nulos_metadata"
   ]
  },
  {
   "cell_type": "markdown",
   "metadata": {},
   "source": [
    "Aqui evidenciamos que las columnas description, price y MISC poseen nulos en distintas proporciones pero ninguna de estas columnas seran utilizadas para el modelo por eso no las vamos a eliminar y solamente vamos a seleccionar las columnas necesarias"
   ]
  },
  {
   "cell_type": "code",
   "execution_count": 32,
   "metadata": {},
   "outputs": [],
   "source": [
    "# Columnas que queremos conservar\n",
    "columnas_necesarias3 = [\"name\",'address', \"gmap_id\",\"latitude\",\"longitude\",\"category\", \"avg_rating\", \"city\",\"state\"]\n",
    "# Creamos un nuevo dataframe con solo esas columnas\n",
    "metadata_df_filtrado = metadata_df[columnas_necesarias3].copy()"
   ]
  },
  {
   "cell_type": "code",
   "execution_count": 33,
   "metadata": {},
   "outputs": [
    {
     "data": {
      "text/html": [
       "<div>\n",
       "<style scoped>\n",
       "    .dataframe tbody tr th:only-of-type {\n",
       "        vertical-align: middle;\n",
       "    }\n",
       "\n",
       "    .dataframe tbody tr th {\n",
       "        vertical-align: top;\n",
       "    }\n",
       "\n",
       "    .dataframe thead th {\n",
       "        text-align: right;\n",
       "    }\n",
       "</style>\n",
       "<table border=\"1\" class=\"dataframe\">\n",
       "  <thead>\n",
       "    <tr style=\"text-align: right;\">\n",
       "      <th></th>\n",
       "      <th>name</th>\n",
       "      <th>address</th>\n",
       "      <th>gmap_id</th>\n",
       "      <th>latitude</th>\n",
       "      <th>longitude</th>\n",
       "      <th>category</th>\n",
       "      <th>avg_rating</th>\n",
       "      <th>city</th>\n",
       "      <th>state</th>\n",
       "    </tr>\n",
       "  </thead>\n",
       "  <tbody>\n",
       "    <tr>\n",
       "      <th>68</th>\n",
       "      <td>Vivi Bubble Tea</td>\n",
       "      <td>Vivi Bubble Tea, 701 S 5th St, Philadelphia, P...</td>\n",
       "      <td>0x89c6c89efcaed69d:0xded973f6033e7dba</td>\n",
       "      <td>39.940293</td>\n",
       "      <td>-75.150923</td>\n",
       "      <td>Restaurant</td>\n",
       "      <td>4.0</td>\n",
       "      <td>Philadelphia</td>\n",
       "      <td>PA</td>\n",
       "    </tr>\n",
       "    <tr>\n",
       "      <th>114</th>\n",
       "      <td>Cape Seafood Shack</td>\n",
       "      <td>Cape Seafood Shack, 603 Del Prado Blvd S, Cape...</td>\n",
       "      <td>0x88db4147b1d9e6f3:0x943dbd10a92ba1b1</td>\n",
       "      <td>26.641377</td>\n",
       "      <td>-81.940545</td>\n",
       "      <td>Restaurant</td>\n",
       "      <td>5.0</td>\n",
       "      <td>Cape Coral</td>\n",
       "      <td>FL</td>\n",
       "    </tr>\n",
       "    <tr>\n",
       "      <th>115</th>\n",
       "      <td>Fresh Point Country Buffet</td>\n",
       "      <td>Fresh Point Country Buffet, 10525 US-19, Pinel...</td>\n",
       "      <td>0x88c2e4e34f1ed783:0x76c5da381c499d79</td>\n",
       "      <td>27.867489</td>\n",
       "      <td>-82.702971</td>\n",
       "      <td>Buffet restaurant</td>\n",
       "      <td>5.0</td>\n",
       "      <td>Pinellas Park</td>\n",
       "      <td>FL</td>\n",
       "    </tr>\n",
       "  </tbody>\n",
       "</table>\n",
       "</div>"
      ],
      "text/plain": [
       "                           name  \\\n",
       "68              Vivi Bubble Tea   \n",
       "114          Cape Seafood Shack   \n",
       "115  Fresh Point Country Buffet   \n",
       "\n",
       "                                               address  \\\n",
       "68   Vivi Bubble Tea, 701 S 5th St, Philadelphia, P...   \n",
       "114  Cape Seafood Shack, 603 Del Prado Blvd S, Cape...   \n",
       "115  Fresh Point Country Buffet, 10525 US-19, Pinel...   \n",
       "\n",
       "                                   gmap_id   latitude  longitude  \\\n",
       "68   0x89c6c89efcaed69d:0xded973f6033e7dba  39.940293 -75.150923   \n",
       "114  0x88db4147b1d9e6f3:0x943dbd10a92ba1b1  26.641377 -81.940545   \n",
       "115  0x88c2e4e34f1ed783:0x76c5da381c499d79  27.867489 -82.702971   \n",
       "\n",
       "              category  avg_rating           city state  \n",
       "68          Restaurant         4.0   Philadelphia    PA  \n",
       "114         Restaurant         5.0     Cape Coral    FL  \n",
       "115  Buffet restaurant         5.0  Pinellas Park    FL  "
      ]
     },
     "execution_count": 33,
     "metadata": {},
     "output_type": "execute_result"
    }
   ],
   "source": [
    "metadata_df_filtrado.head(3)"
   ]
  },
  {
   "cell_type": "code",
   "execution_count": 34,
   "metadata": {},
   "outputs": [
    {
     "data": {
      "text/plain": [
       "name          0.0\n",
       "address       0.0\n",
       "gmap_id       0.0\n",
       "latitude      0.0\n",
       "longitude     0.0\n",
       "category      0.0\n",
       "avg_rating    0.0\n",
       "city          0.0\n",
       "state         0.0\n",
       "dtype: float64"
      ]
     },
     "execution_count": 34,
     "metadata": {},
     "output_type": "execute_result"
    }
   ],
   "source": [
    "# Corroboramos si quedan nulos en las columnas elegidas\n",
    "metada_nulos2 = metadata_df_filtrado.isnull().sum()\n",
    "pocentaje_nulos_metadata2 = (metada_nulos2/len(metadata_df_filtrado))*100\n",
    "pocentaje_nulos_metadata2"
   ]
  },
  {
   "cell_type": "markdown",
   "metadata": {},
   "source": [
    "### Union de los dataframes de Google Maps"
   ]
  },
  {
   "cell_type": "markdown",
   "metadata": {},
   "source": [
    "Apartir del dataframe de metadata lo unimos primero con la reviews de florida y despues con las de pennsylvania"
   ]
  },
  {
   "cell_type": "code",
   "execution_count": 35,
   "metadata": {},
   "outputs": [],
   "source": [
    "merged_df_florida = pd.merge(metadata_df_filtrado, reviews_df_florida_filtrado2, on='gmap_id', how='inner')\n",
    "merged_df_pennsylvania = pd.merge(metadata_df_filtrado, reviews_df_pennsylvania_filtrado2, on='gmap_id', how='inner')"
   ]
  },
  {
   "cell_type": "code",
   "execution_count": 36,
   "metadata": {},
   "outputs": [
    {
     "data": {
      "text/html": [
       "<div>\n",
       "<style scoped>\n",
       "    .dataframe tbody tr th:only-of-type {\n",
       "        vertical-align: middle;\n",
       "    }\n",
       "\n",
       "    .dataframe tbody tr th {\n",
       "        vertical-align: top;\n",
       "    }\n",
       "\n",
       "    .dataframe thead th {\n",
       "        text-align: right;\n",
       "    }\n",
       "</style>\n",
       "<table border=\"1\" class=\"dataframe\">\n",
       "  <thead>\n",
       "    <tr style=\"text-align: right;\">\n",
       "      <th></th>\n",
       "      <th>name</th>\n",
       "      <th>address</th>\n",
       "      <th>gmap_id</th>\n",
       "      <th>latitude</th>\n",
       "      <th>longitude</th>\n",
       "      <th>category</th>\n",
       "      <th>avg_rating</th>\n",
       "      <th>city</th>\n",
       "      <th>state_x</th>\n",
       "      <th>user_id</th>\n",
       "      <th>rating</th>\n",
       "      <th>text</th>\n",
       "      <th>state_y</th>\n",
       "    </tr>\n",
       "  </thead>\n",
       "  <tbody>\n",
       "    <tr>\n",
       "      <th>0</th>\n",
       "      <td>Gormley's on the river | Modern cuisine in his...</td>\n",
       "      <td>Gormley's on the river | Modern cuisine in his...</td>\n",
       "      <td>0x8894b5a7a7909725:0xe4687299fd288188</td>\n",
       "      <td>29.726949</td>\n",
       "      <td>-84.981535</td>\n",
       "      <td>Modern French restaurant, Restaurant</td>\n",
       "      <td>4.3</td>\n",
       "      <td>Apalachicola</td>\n",
       "      <td>FL</td>\n",
       "      <td>1.130683e+20</td>\n",
       "      <td>5</td>\n",
       "      <td>The salads were lackluster though with well wr...</td>\n",
       "      <td>FL</td>\n",
       "    </tr>\n",
       "    <tr>\n",
       "      <th>1</th>\n",
       "      <td>Gormley's on the river | Modern cuisine in his...</td>\n",
       "      <td>Gormley's on the river | Modern cuisine in his...</td>\n",
       "      <td>0x8894b5a7a7909725:0xe4687299fd288188</td>\n",
       "      <td>29.726949</td>\n",
       "      <td>-84.981535</td>\n",
       "      <td>Modern French restaurant, Restaurant</td>\n",
       "      <td>4.3</td>\n",
       "      <td>Apalachicola</td>\n",
       "      <td>FL</td>\n",
       "      <td>1.059416e+20</td>\n",
       "      <td>1</td>\n",
       "      <td>Love this place. Great little restaurant, with...</td>\n",
       "      <td>FL</td>\n",
       "    </tr>\n",
       "    <tr>\n",
       "      <th>2</th>\n",
       "      <td>Gormley's on the river | Modern cuisine in his...</td>\n",
       "      <td>Gormley's on the river | Modern cuisine in his...</td>\n",
       "      <td>0x8894b5a7a7909725:0xe4687299fd288188</td>\n",
       "      <td>29.726949</td>\n",
       "      <td>-84.981535</td>\n",
       "      <td>Modern French restaurant, Restaurant</td>\n",
       "      <td>4.3</td>\n",
       "      <td>Apalachicola</td>\n",
       "      <td>FL</td>\n",
       "      <td>1.098577e+20</td>\n",
       "      <td>5</td>\n",
       "      <td>A classy restaurant to match the charm of the ...</td>\n",
       "      <td>FL</td>\n",
       "    </tr>\n",
       "  </tbody>\n",
       "</table>\n",
       "</div>"
      ],
      "text/plain": [
       "                                                name  \\\n",
       "0  Gormley's on the river | Modern cuisine in his...   \n",
       "1  Gormley's on the river | Modern cuisine in his...   \n",
       "2  Gormley's on the river | Modern cuisine in his...   \n",
       "\n",
       "                                             address  \\\n",
       "0  Gormley's on the river | Modern cuisine in his...   \n",
       "1  Gormley's on the river | Modern cuisine in his...   \n",
       "2  Gormley's on the river | Modern cuisine in his...   \n",
       "\n",
       "                                 gmap_id   latitude  longitude  \\\n",
       "0  0x8894b5a7a7909725:0xe4687299fd288188  29.726949 -84.981535   \n",
       "1  0x8894b5a7a7909725:0xe4687299fd288188  29.726949 -84.981535   \n",
       "2  0x8894b5a7a7909725:0xe4687299fd288188  29.726949 -84.981535   \n",
       "\n",
       "                               category  avg_rating          city state_x  \\\n",
       "0  Modern French restaurant, Restaurant         4.3  Apalachicola      FL   \n",
       "1  Modern French restaurant, Restaurant         4.3  Apalachicola      FL   \n",
       "2  Modern French restaurant, Restaurant         4.3  Apalachicola      FL   \n",
       "\n",
       "        user_id  rating                                               text  \\\n",
       "0  1.130683e+20       5  The salads were lackluster though with well wr...   \n",
       "1  1.059416e+20       1  Love this place. Great little restaurant, with...   \n",
       "2  1.098577e+20       5  A classy restaurant to match the charm of the ...   \n",
       "\n",
       "  state_y  \n",
       "0      FL  \n",
       "1      FL  \n",
       "2      FL  "
      ]
     },
     "execution_count": 36,
     "metadata": {},
     "output_type": "execute_result"
    }
   ],
   "source": [
    "merged_df_florida.head(3)"
   ]
  },
  {
   "cell_type": "code",
   "execution_count": 37,
   "metadata": {},
   "outputs": [
    {
     "data": {
      "text/html": [
       "<div>\n",
       "<style scoped>\n",
       "    .dataframe tbody tr th:only-of-type {\n",
       "        vertical-align: middle;\n",
       "    }\n",
       "\n",
       "    .dataframe tbody tr th {\n",
       "        vertical-align: top;\n",
       "    }\n",
       "\n",
       "    .dataframe thead th {\n",
       "        text-align: right;\n",
       "    }\n",
       "</style>\n",
       "<table border=\"1\" class=\"dataframe\">\n",
       "  <thead>\n",
       "    <tr style=\"text-align: right;\">\n",
       "      <th></th>\n",
       "      <th>name</th>\n",
       "      <th>address</th>\n",
       "      <th>gmap_id</th>\n",
       "      <th>latitude</th>\n",
       "      <th>longitude</th>\n",
       "      <th>category</th>\n",
       "      <th>avg_rating</th>\n",
       "      <th>city</th>\n",
       "      <th>state_x</th>\n",
       "      <th>user_id</th>\n",
       "      <th>rating</th>\n",
       "      <th>text</th>\n",
       "      <th>state_y</th>\n",
       "    </tr>\n",
       "  </thead>\n",
       "  <tbody>\n",
       "    <tr>\n",
       "      <th>0</th>\n",
       "      <td>Crown Fried Chicken</td>\n",
       "      <td>Crown Fried Chicken, 208 East St, Bloomsburg, ...</td>\n",
       "      <td>0x89c587762e7e69dd:0x30a60dce48b073c3</td>\n",
       "      <td>41.004147</td>\n",
       "      <td>-76.453729</td>\n",
       "      <td>Restaurant</td>\n",
       "      <td>4.2</td>\n",
       "      <td>Bloomsburg</td>\n",
       "      <td>PA</td>\n",
       "      <td>1.162409e+20</td>\n",
       "      <td>5</td>\n",
       "      <td>Inexpensive and delicious food. Reminds me of ...</td>\n",
       "      <td>PA</td>\n",
       "    </tr>\n",
       "    <tr>\n",
       "      <th>1</th>\n",
       "      <td>Crown Fried Chicken</td>\n",
       "      <td>Crown Fried Chicken, 208 East St, Bloomsburg, ...</td>\n",
       "      <td>0x89c587762e7e69dd:0x30a60dce48b073c3</td>\n",
       "      <td>41.004147</td>\n",
       "      <td>-76.453729</td>\n",
       "      <td>Restaurant</td>\n",
       "      <td>4.2</td>\n",
       "      <td>Bloomsburg</td>\n",
       "      <td>PA</td>\n",
       "      <td>1.089870e+20</td>\n",
       "      <td>3</td>\n",
       "      <td>pros\\nstaff were nice\\nprices were good for qu...</td>\n",
       "      <td>PA</td>\n",
       "    </tr>\n",
       "    <tr>\n",
       "      <th>2</th>\n",
       "      <td>Crown Fried Chicken</td>\n",
       "      <td>Crown Fried Chicken, 208 East St, Bloomsburg, ...</td>\n",
       "      <td>0x89c587762e7e69dd:0x30a60dce48b073c3</td>\n",
       "      <td>41.004147</td>\n",
       "      <td>-76.453729</td>\n",
       "      <td>Restaurant</td>\n",
       "      <td>4.2</td>\n",
       "      <td>Bloomsburg</td>\n",
       "      <td>PA</td>\n",
       "      <td>1.092182e+20</td>\n",
       "      <td>2</td>\n",
       "      <td>The chicken was nice and crispy, but it had a ...</td>\n",
       "      <td>PA</td>\n",
       "    </tr>\n",
       "  </tbody>\n",
       "</table>\n",
       "</div>"
      ],
      "text/plain": [
       "                  name                                            address  \\\n",
       "0  Crown Fried Chicken  Crown Fried Chicken, 208 East St, Bloomsburg, ...   \n",
       "1  Crown Fried Chicken  Crown Fried Chicken, 208 East St, Bloomsburg, ...   \n",
       "2  Crown Fried Chicken  Crown Fried Chicken, 208 East St, Bloomsburg, ...   \n",
       "\n",
       "                                 gmap_id   latitude  longitude    category  \\\n",
       "0  0x89c587762e7e69dd:0x30a60dce48b073c3  41.004147 -76.453729  Restaurant   \n",
       "1  0x89c587762e7e69dd:0x30a60dce48b073c3  41.004147 -76.453729  Restaurant   \n",
       "2  0x89c587762e7e69dd:0x30a60dce48b073c3  41.004147 -76.453729  Restaurant   \n",
       "\n",
       "   avg_rating        city state_x       user_id  rating  \\\n",
       "0         4.2  Bloomsburg      PA  1.162409e+20       5   \n",
       "1         4.2  Bloomsburg      PA  1.089870e+20       3   \n",
       "2         4.2  Bloomsburg      PA  1.092182e+20       2   \n",
       "\n",
       "                                                text state_y  \n",
       "0  Inexpensive and delicious food. Reminds me of ...      PA  \n",
       "1  pros\\nstaff were nice\\nprices were good for qu...      PA  \n",
       "2  The chicken was nice and crispy, but it had a ...      PA  "
      ]
     },
     "execution_count": 37,
     "metadata": {},
     "output_type": "execute_result"
    }
   ],
   "source": [
    "merged_df_pennsylvania.head(3)"
   ]
  },
  {
   "cell_type": "code",
   "execution_count": 38,
   "metadata": {},
   "outputs": [
    {
     "name": "stdout",
     "output_type": "stream",
     "text": [
      "city\n",
      "Orlando    11777\n",
      "Miami       9265\n",
      "Name: count, dtype: int64\n"
     ]
    }
   ],
   "source": [
    "# En el dataframe merged_df_florida filtramos las cuidades de Orlando y Miami\n",
    "df_florida = merged_df_florida[merged_df_florida['city'].isin(['Miami','Orlando'])]\n",
    "print(df_florida['city'].value_counts())"
   ]
  },
  {
   "cell_type": "code",
   "execution_count": 39,
   "metadata": {},
   "outputs": [
    {
     "name": "stdout",
     "output_type": "stream",
     "text": [
      "city\n",
      "Philadelphia    20700\n",
      "Name: count, dtype: int64\n"
     ]
    }
   ],
   "source": [
    "# En el dataframe merged_df_pennsylvania filtramos la cuidad de Philadelphia\n",
    "df_pennsylvania = merged_df_pennsylvania[merged_df_pennsylvania['city'].isin(['Philadelphia'])]\n",
    "print(df_pennsylvania['city'].value_counts())"
   ]
  },
  {
   "cell_type": "markdown",
   "metadata": {},
   "source": [
    "Una vez que obtenemos metadata filtrado por los estados y unidos con las reviews, procedemos a concatenar los dataframes para que solo quede uno"
   ]
  },
  {
   "cell_type": "code",
   "execution_count": 40,
   "metadata": {},
   "outputs": [
    {
     "data": {
      "text/plain": [
       "' maps_concatenado = pd.concat([merged_df_florida, merged_df_pennsylvania], ignore_index=True) '"
      ]
     },
     "execution_count": 40,
     "metadata": {},
     "output_type": "execute_result"
    }
   ],
   "source": [
    "\"\"\" maps_concatenado = pd.concat([merged_df_florida, merged_df_pennsylvania], ignore_index=True) \"\"\""
   ]
  },
  {
   "cell_type": "markdown",
   "metadata": {},
   "source": [
    "Debido a nuestro alcance solo utilizaremos las cuidades de Miami, Orlando y Philadelphia por lo que concatenaremos los dataframes ya filtrados"
   ]
  },
  {
   "cell_type": "code",
   "execution_count": 41,
   "metadata": {},
   "outputs": [],
   "source": [
    "maps_concatenado = pd.concat([df_florida, df_pennsylvania], ignore_index=True)"
   ]
  },
  {
   "cell_type": "markdown",
   "metadata": {},
   "source": [
    "Eliminamos la columna gmap_id dado que ya no aporta informacion necesaria para el modelo al ser una columna identificatoria. Tambien eliminamos la columna state_x que se encuentra duplicada "
   ]
  },
  {
   "cell_type": "code",
   "execution_count": 42,
   "metadata": {},
   "outputs": [],
   "source": [
    "maps_concatenado = maps_concatenado.drop('gmap_id', axis=1)"
   ]
  },
  {
   "cell_type": "code",
   "execution_count": 43,
   "metadata": {},
   "outputs": [],
   "source": [
    "maps_concatenado = maps_concatenado.drop('state_x', axis=1)"
   ]
  },
  {
   "cell_type": "code",
   "execution_count": 44,
   "metadata": {},
   "outputs": [],
   "source": [
    "maps_concatenado = maps_concatenado.rename(columns={'state_y':'state'})"
   ]
  },
  {
   "cell_type": "code",
   "execution_count": 45,
   "metadata": {},
   "outputs": [
    {
     "data": {
      "text/html": [
       "<div>\n",
       "<style scoped>\n",
       "    .dataframe tbody tr th:only-of-type {\n",
       "        vertical-align: middle;\n",
       "    }\n",
       "\n",
       "    .dataframe tbody tr th {\n",
       "        vertical-align: top;\n",
       "    }\n",
       "\n",
       "    .dataframe thead th {\n",
       "        text-align: right;\n",
       "    }\n",
       "</style>\n",
       "<table border=\"1\" class=\"dataframe\">\n",
       "  <thead>\n",
       "    <tr style=\"text-align: right;\">\n",
       "      <th></th>\n",
       "      <th>name</th>\n",
       "      <th>address</th>\n",
       "      <th>latitude</th>\n",
       "      <th>longitude</th>\n",
       "      <th>category</th>\n",
       "      <th>avg_rating</th>\n",
       "      <th>city</th>\n",
       "      <th>user_id</th>\n",
       "      <th>rating</th>\n",
       "      <th>text</th>\n",
       "      <th>state</th>\n",
       "    </tr>\n",
       "  </thead>\n",
       "  <tbody>\n",
       "    <tr>\n",
       "      <th>0</th>\n",
       "      <td>Choices Cafe</td>\n",
       "      <td>Choices Cafe, 711 NW 27th Ave, Miami, FL 33125</td>\n",
       "      <td>25.779837</td>\n",
       "      <td>-80.239103</td>\n",
       "      <td>Restaurant</td>\n",
       "      <td>4.6</td>\n",
       "      <td>Miami</td>\n",
       "      <td>1.049464e+20</td>\n",
       "      <td>5</td>\n",
       "      <td>I love Choices!  All their locations.. I've be...</td>\n",
       "      <td>FL</td>\n",
       "    </tr>\n",
       "    <tr>\n",
       "      <th>1</th>\n",
       "      <td>Choices Cafe</td>\n",
       "      <td>Choices Cafe, 711 NW 27th Ave, Miami, FL 33125</td>\n",
       "      <td>25.779837</td>\n",
       "      <td>-80.239103</td>\n",
       "      <td>Restaurant</td>\n",
       "      <td>4.6</td>\n",
       "      <td>Miami</td>\n",
       "      <td>1.089759e+20</td>\n",
       "      <td>5</td>\n",
       "      <td>Absolutely delicious! And not so badly priced....</td>\n",
       "      <td>FL</td>\n",
       "    </tr>\n",
       "    <tr>\n",
       "      <th>2</th>\n",
       "      <td>Choices Cafe</td>\n",
       "      <td>Choices Cafe, 711 NW 27th Ave, Miami, FL 33125</td>\n",
       "      <td>25.779837</td>\n",
       "      <td>-80.239103</td>\n",
       "      <td>Restaurant</td>\n",
       "      <td>4.6</td>\n",
       "      <td>Miami</td>\n",
       "      <td>1.091078e+20</td>\n",
       "      <td>4</td>\n",
       "      <td>Fantastic vegan &amp; organic place in Miami. A tr...</td>\n",
       "      <td>FL</td>\n",
       "    </tr>\n",
       "  </tbody>\n",
       "</table>\n",
       "</div>"
      ],
      "text/plain": [
       "           name                                         address   latitude  \\\n",
       "0  Choices Cafe  Choices Cafe, 711 NW 27th Ave, Miami, FL 33125  25.779837   \n",
       "1  Choices Cafe  Choices Cafe, 711 NW 27th Ave, Miami, FL 33125  25.779837   \n",
       "2  Choices Cafe  Choices Cafe, 711 NW 27th Ave, Miami, FL 33125  25.779837   \n",
       "\n",
       "   longitude    category  avg_rating   city       user_id  rating  \\\n",
       "0 -80.239103  Restaurant         4.6  Miami  1.049464e+20       5   \n",
       "1 -80.239103  Restaurant         4.6  Miami  1.089759e+20       5   \n",
       "2 -80.239103  Restaurant         4.6  Miami  1.091078e+20       4   \n",
       "\n",
       "                                                text state  \n",
       "0  I love Choices!  All their locations.. I've be...    FL  \n",
       "1  Absolutely delicious! And not so badly priced....    FL  \n",
       "2  Fantastic vegan & organic place in Miami. A tr...    FL  "
      ]
     },
     "execution_count": 45,
     "metadata": {},
     "output_type": "execute_result"
    }
   ],
   "source": [
    "maps_concatenado.head(3)"
   ]
  },
  {
   "cell_type": "code",
   "execution_count": 46,
   "metadata": {},
   "outputs": [
    {
     "data": {
      "text/plain": [
       "(41742, 11)"
      ]
     },
     "execution_count": 46,
     "metadata": {},
     "output_type": "execute_result"
    }
   ],
   "source": [
    "maps_concatenado.shape"
   ]
  },
  {
   "cell_type": "code",
   "execution_count": 47,
   "metadata": {},
   "outputs": [],
   "source": [
    "def eliminar_nombre_en_direccion(row):\n",
    "    nombre_restaurante = row['name']\n",
    "    direccion = row['address']\n",
    "\n",
    "    # Verifica si el nombre del restaurante está presente en la dirección\n",
    "    if nombre_restaurante in direccion:\n",
    "        # Elimina el nombre del restaurante de la dirección\n",
    "        nueva_direccion = direccion.split(nombre_restaurante + ', ', 1)[1]\n",
    "        return nueva_direccion\n",
    "    else:\n",
    "        # Si el nombre del restaurante no está presente, devuelve la dirección original\n",
    "        return direccion"
   ]
  },
  {
   "cell_type": "code",
   "execution_count": 48,
   "metadata": {},
   "outputs": [],
   "source": [
    "maps_concatenado['address'] = maps_concatenado.apply(eliminar_nombre_en_direccion, axis=1)"
   ]
  },
  {
   "cell_type": "code",
   "execution_count": 49,
   "metadata": {},
   "outputs": [
    {
     "data": {
      "text/html": [
       "<div>\n",
       "<style scoped>\n",
       "    .dataframe tbody tr th:only-of-type {\n",
       "        vertical-align: middle;\n",
       "    }\n",
       "\n",
       "    .dataframe tbody tr th {\n",
       "        vertical-align: top;\n",
       "    }\n",
       "\n",
       "    .dataframe thead th {\n",
       "        text-align: right;\n",
       "    }\n",
       "</style>\n",
       "<table border=\"1\" class=\"dataframe\">\n",
       "  <thead>\n",
       "    <tr style=\"text-align: right;\">\n",
       "      <th></th>\n",
       "      <th>name</th>\n",
       "      <th>address</th>\n",
       "      <th>latitude</th>\n",
       "      <th>longitude</th>\n",
       "      <th>category</th>\n",
       "      <th>avg_rating</th>\n",
       "      <th>city</th>\n",
       "      <th>user_id</th>\n",
       "      <th>rating</th>\n",
       "      <th>text</th>\n",
       "      <th>state</th>\n",
       "    </tr>\n",
       "  </thead>\n",
       "  <tbody>\n",
       "    <tr>\n",
       "      <th>0</th>\n",
       "      <td>Choices Cafe</td>\n",
       "      <td>711 NW 27th Ave, Miami, FL 33125</td>\n",
       "      <td>25.779837</td>\n",
       "      <td>-80.239103</td>\n",
       "      <td>Restaurant</td>\n",
       "      <td>4.6</td>\n",
       "      <td>Miami</td>\n",
       "      <td>1.049464e+20</td>\n",
       "      <td>5</td>\n",
       "      <td>I love Choices!  All their locations.. I've be...</td>\n",
       "      <td>FL</td>\n",
       "    </tr>\n",
       "    <tr>\n",
       "      <th>1</th>\n",
       "      <td>Choices Cafe</td>\n",
       "      <td>711 NW 27th Ave, Miami, FL 33125</td>\n",
       "      <td>25.779837</td>\n",
       "      <td>-80.239103</td>\n",
       "      <td>Restaurant</td>\n",
       "      <td>4.6</td>\n",
       "      <td>Miami</td>\n",
       "      <td>1.089759e+20</td>\n",
       "      <td>5</td>\n",
       "      <td>Absolutely delicious! And not so badly priced....</td>\n",
       "      <td>FL</td>\n",
       "    </tr>\n",
       "    <tr>\n",
       "      <th>2</th>\n",
       "      <td>Choices Cafe</td>\n",
       "      <td>711 NW 27th Ave, Miami, FL 33125</td>\n",
       "      <td>25.779837</td>\n",
       "      <td>-80.239103</td>\n",
       "      <td>Restaurant</td>\n",
       "      <td>4.6</td>\n",
       "      <td>Miami</td>\n",
       "      <td>1.091078e+20</td>\n",
       "      <td>4</td>\n",
       "      <td>Fantastic vegan &amp; organic place in Miami. A tr...</td>\n",
       "      <td>FL</td>\n",
       "    </tr>\n",
       "    <tr>\n",
       "      <th>3</th>\n",
       "      <td>Choices Cafe</td>\n",
       "      <td>711 NW 27th Ave, Miami, FL 33125</td>\n",
       "      <td>25.779837</td>\n",
       "      <td>-80.239103</td>\n",
       "      <td>Restaurant</td>\n",
       "      <td>4.6</td>\n",
       "      <td>Miami</td>\n",
       "      <td>1.174232e+20</td>\n",
       "      <td>5</td>\n",
       "      <td>Always very delicious, fresh tasting food.</td>\n",
       "      <td>FL</td>\n",
       "    </tr>\n",
       "    <tr>\n",
       "      <th>4</th>\n",
       "      <td>Choices Cafe</td>\n",
       "      <td>711 NW 27th Ave, Miami, FL 33125</td>\n",
       "      <td>25.779837</td>\n",
       "      <td>-80.239103</td>\n",
       "      <td>Restaurant</td>\n",
       "      <td>4.6</td>\n",
       "      <td>Miami</td>\n",
       "      <td>1.044869e+20</td>\n",
       "      <td>5</td>\n",
       "      <td>Great healthy food friendly staff wide selection</td>\n",
       "      <td>FL</td>\n",
       "    </tr>\n",
       "  </tbody>\n",
       "</table>\n",
       "</div>"
      ],
      "text/plain": [
       "           name                           address   latitude  longitude  \\\n",
       "0  Choices Cafe  711 NW 27th Ave, Miami, FL 33125  25.779837 -80.239103   \n",
       "1  Choices Cafe  711 NW 27th Ave, Miami, FL 33125  25.779837 -80.239103   \n",
       "2  Choices Cafe  711 NW 27th Ave, Miami, FL 33125  25.779837 -80.239103   \n",
       "3  Choices Cafe  711 NW 27th Ave, Miami, FL 33125  25.779837 -80.239103   \n",
       "4  Choices Cafe  711 NW 27th Ave, Miami, FL 33125  25.779837 -80.239103   \n",
       "\n",
       "     category  avg_rating   city       user_id  rating  \\\n",
       "0  Restaurant         4.6  Miami  1.049464e+20       5   \n",
       "1  Restaurant         4.6  Miami  1.089759e+20       5   \n",
       "2  Restaurant         4.6  Miami  1.091078e+20       4   \n",
       "3  Restaurant         4.6  Miami  1.174232e+20       5   \n",
       "4  Restaurant         4.6  Miami  1.044869e+20       5   \n",
       "\n",
       "                                                text state  \n",
       "0  I love Choices!  All their locations.. I've be...    FL  \n",
       "1  Absolutely delicious! And not so badly priced....    FL  \n",
       "2  Fantastic vegan & organic place in Miami. A tr...    FL  \n",
       "3         Always very delicious, fresh tasting food.    FL  \n",
       "4   Great healthy food friendly staff wide selection    FL  "
      ]
     },
     "execution_count": 49,
     "metadata": {},
     "output_type": "execute_result"
    }
   ],
   "source": [
    "maps_concatenado.head()"
   ]
  },
  {
   "cell_type": "code",
   "execution_count": 50,
   "metadata": {},
   "outputs": [
    {
     "data": {
      "text/plain": [
       "\" grouped_data = maps_concatenado.groupby(['state','city']).size().reset_index(name='num_reviews')\\ntop_cities = grouped_data.sort_values(['state','num_reviews'], ascending=[True,False]).groupby('state').head(2)\\ntop_cities \""
      ]
     },
     "execution_count": 50,
     "metadata": {},
     "output_type": "execute_result"
    }
   ],
   "source": [
    "# Este codigo se utilizo para visualizar las cuidades de cada estado que cuentan con mas reviews\n",
    "\"\"\" grouped_data = maps_concatenado.groupby(['state','city']).size().reset_index(name='num_reviews')\n",
    "top_cities = grouped_data.sort_values(['state','num_reviews'], ascending=[True,False]).groupby('state').head(2)\n",
    "top_cities \"\"\""
   ]
  },
  {
   "cell_type": "markdown",
   "metadata": {},
   "source": [
    "Por ultimo vamos a guardar el nuevo dataframe en un bucket de GCP"
   ]
  },
  {
   "cell_type": "code",
   "execution_count": 51,
   "metadata": {},
   "outputs": [],
   "source": [
    "maps_concatenado.to_parquet(\"maps_concatenado.parquet\", index=False)"
   ]
  },
  {
   "cell_type": "code",
   "execution_count": 52,
   "metadata": {},
   "outputs": [],
   "source": [
    "bucket_name = \"pf_cleaned_data\"\n",
    "gcs_folder = \"Modelo_df\"\n",
    "\n",
    "gcs_path = f\"gs://{bucket_name}/{gcs_folder}/maps_concatenado3.parquet\"\n",
    "fs = gcsfs.GCSFileSystem(project=\"prueba-410413\", token=None, access=\"read_write\", requester_pays=True)\n",
    "\n",
    "with fs.open(gcs_path, \"wb\") as f:\n",
    "    f.write(open(\"maps_concatenado.parquet\", \"rb\").read())\n"
   ]
  }
 ],
 "metadata": {
  "kernelspec": {
   "display_name": "mi_entorno",
   "language": "python",
   "name": "python3"
  },
  "language_info": {
   "codemirror_mode": {
    "name": "ipython",
    "version": 3
   },
   "file_extension": ".py",
   "mimetype": "text/x-python",
   "name": "python",
   "nbconvert_exporter": "python",
   "pygments_lexer": "ipython3",
   "version": "3.12.1"
  }
 },
 "nbformat": 4,
 "nbformat_minor": 2
}
